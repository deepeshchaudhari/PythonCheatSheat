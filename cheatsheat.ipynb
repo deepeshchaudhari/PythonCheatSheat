{
 "cells": [
  {
   "cell_type": "code",
   "execution_count": 63,
   "metadata": {},
   "outputs": [],
   "source": [
    "# python3 competitive cheatsheat"
   ]
  },
  {
   "cell_type": "code",
   "execution_count": 64,
   "metadata": {},
   "outputs": [
    {
     "name": "stdout",
     "output_type": "stream",
     "text": [
      "880\n"
     ]
    }
   ],
   "source": [
    "# list of int to string\n",
    "s = ['8','80']\n",
    "print(\"\".join(s))"
   ]
  },
  {
   "cell_type": "code",
   "execution_count": 65,
   "metadata": {},
   "outputs": [
    {
     "name": "stdout",
     "output_type": "stream",
     "text": [
      "['1', '2', '3', '4', '5', '6', '7', '8', '9', '0']\n",
      "['a', 'b', 'c', 'd', 'e', 'f', 'g']\n",
      "['a', 'b', 'c', 'd', 'e', 'f', 'g', '1', '2', '3', '4', '5', '6', '7', '8', '9', '0']\n"
     ]
    }
   ],
   "source": [
    "# split string in list without split\n",
    "string =\"abcdefg\"\n",
    "intstr= 1234567890\n",
    "i,s=[],[]\n",
    "i[:0]=str(intstr)\n",
    "print(i)\n",
    "\n",
    "s[:0]=string\n",
    "print(s)\n",
    "\n",
    "# append list in list from beginning\n",
    "i[:0]=s\n",
    "print(i)"
   ]
  },
  {
   "cell_type": "code",
   "execution_count": 66,
   "metadata": {},
   "outputs": [
    {
     "name": "stdout",
     "output_type": "stream",
     "text": [
      "['a', 'b', 'c', 'd', 'e', 'f', 'g', '1', '2', '3', '4', '5', '6', '7', '8', '9', '0', 'a', 'b', 'c', 'd', 'e', 'f', 'g']\n"
     ]
    }
   ],
   "source": [
    "# add list in list from beggining=s\n",
    "print(i+s)"
   ]
  },
  {
   "cell_type": "code",
   "execution_count": 67,
   "metadata": {},
   "outputs": [
    {
     "data": {
      "text/plain": [
       "int"
      ]
     },
     "execution_count": 67,
     "metadata": {},
     "output_type": "execute_result"
    }
   ],
   "source": [
    "# concat integer digit in int\n",
    "type(eval(f\"{10}{20}\"))"
   ]
  },
  {
   "cell_type": "code",
   "execution_count": 68,
   "metadata": {},
   "outputs": [],
   "source": [
    "# list comprehension\n",
    "s = [x for x in i]"
   ]
  },
  {
   "cell_type": "code",
   "execution_count": 70,
   "metadata": {},
   "outputs": [
    {
     "name": "stdout",
     "output_type": "stream",
     "text": [
      "[1, 2, 3, 4, 90, 99]\n"
     ]
    }
   ],
   "source": [
    "# sort with comparator function\n",
    "from functools import cmp_to_key\n",
    "\n",
    "def desc(a,b):\n",
    "    if b>a:\n",
    "        return -1\n",
    "    else:\n",
    "        return 1\n",
    "\n",
    "data = [4,3,99,90,2,1]\n",
    "print(sorted(data, key=cmp_to_key(compare)))"
   ]
  },
  {
   "cell_type": "code",
   "execution_count": 81,
   "metadata": {},
   "outputs": [
    {
     "name": "stdout",
     "output_type": "stream",
     "text": [
      "[(1, 2), (1, 3), (1, 1), (2, 1), (2, 3), (2, 1), (3, 1), (3, 2), (3, 1), (1, 1), (1, 2), (1, 3)]\n",
      "[(1, 2), (1, 3), (1, 1), (2, 3), (2, 1), (3, 1)]\n",
      "[(1, 1, 1), (1, 1, 2), (1, 1, 3), (1, 1, 1), (1, 2, 2), (1, 2, 3), (1, 2, 1), (1, 3, 3), (1, 3, 1), (1, 1, 1), (2, 2, 2), (2, 2, 3), (2, 2, 1), (2, 3, 3), (2, 3, 1), (2, 1, 1), (3, 3, 3), (3, 3, 1), (3, 1, 1), (1, 1, 1)]\n"
     ]
    }
   ],
   "source": [
    "# permmutation of list\n",
    "from itertools import permutations \n",
    "from itertools import combinations \n",
    "from itertools import combinations_with_replacement\n",
    "\n",
    "a_list = [1, 2, 3, 1]\n",
    "\n",
    "p = permutations(a_list,2)\n",
    "c = combinations(a_list,2)\n",
    "cr =combinations_with_replacement(a_list,3)\n",
    "permutations_list = list(p)\n",
    "combinations_list =list(c)\n",
    "combinations_with_replacement_list=list(cr)\n",
    "\n",
    "print(permutations_list)\n",
    "\n",
    "print(combinations_list)\n",
    "\n",
    "print(combinations_with_replacement_list)"
   ]
  },
  {
   "cell_type": "code",
   "execution_count": null,
   "metadata": {},
   "outputs": [],
   "source": [
    "#  usefull imports\n",
    "\n",
    "from functools import cmp_to_key #comparator\n",
    "import itertools # for permutaions "
   ]
  },
  {
   "cell_type": "code",
   "execution_count": 82,
   "metadata": {},
   "outputs": [
    {
     "data": {
      "text/plain": [
       "9"
      ]
     },
     "execution_count": 82,
     "metadata": {},
     "output_type": "execute_result"
    }
   ],
  },
  {
   "cell_type": "code",
   "execution_count": null,
   "metadata": {},
   "outputs": [],
   "source": []
  }
 ],
 "metadata": {
  "kernelspec": {
   "display_name": "Python 3",
   "language": "python",
   "name": "python3"
  },
  "language_info": {
   "codemirror_mode": {
    "name": "ipython",
    "version": 3
   },
   "file_extension": ".py",
   "mimetype": "text/x-python",
   "name": "python",
   "nbconvert_exporter": "python",
   "pygments_lexer": "ipython3",
   "version": "3.8.5"
  },
  "toc": {
   "base_numbering": 1,
   "nav_menu": {},
   "number_sections": true,
   "sideBar": true,
   "skip_h1_title": false,
   "title_cell": "Table of Contents",
   "title_sidebar": "Contents",
   "toc_cell": false,
   "toc_position": {},
   "toc_section_display": true,
   "toc_window_display": false
  }
 },
 "nbformat": 4,
 "nbformat_minor": 4
}
